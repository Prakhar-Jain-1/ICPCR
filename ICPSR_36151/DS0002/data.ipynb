{
 "cells": [
  {
   "cell_type": "code",
   "execution_count": 1,
   "metadata": {},
   "outputs": [],
   "source": [
    "import pandas as pd\n",
    "import matplotlib.pyplot as plt\n",
    "import os\n"
   ]
  },
  {
   "cell_type": "code",
   "execution_count": 2,
   "metadata": {},
   "outputs": [],
   "source": [
    "file_path = '36151-0002-Data.dta'\n",
    "\n",
    "df = pd.read_stata(file_path)\n",
    "\n",
    "# print(df.head())\n"
   ]
  },
  {
   "cell_type": "code",
   "execution_count": 3,
   "metadata": {},
   "outputs": [
    {
     "name": "stdout",
     "output_type": "stream",
     "text": [
      "Saved: states_datasets/data_subset_Jammu & Kashmir 01.csv\n",
      "Saved: states_datasets/data_subset_Himachal Pradesh 02.csv\n",
      "Saved: states_datasets/data_subset_Punjab 03.csv\n",
      "Saved: states_datasets/data_subset_Chandigarh 04.csv\n",
      "Saved: states_datasets/data_subset_Uttarakhand 05.csv\n",
      "Saved: states_datasets/data_subset_Haryana 06.csv\n",
      "Saved: states_datasets/data_subset_Delhi 07.csv\n",
      "Saved: states_datasets/data_subset_Rajasthan 08.csv\n",
      "Saved: states_datasets/data_subset_Uttar Pradesh 09.csv\n",
      "Saved: states_datasets/data_subset_Bihar 10.csv\n",
      "Saved: states_datasets/data_subset_Sikkim 11.csv\n",
      "Saved: states_datasets/data_subset_Arunachal Pradesh 12.csv\n",
      "Saved: states_datasets/data_subset_Nagaland 13.csv\n",
      "Saved: states_datasets/data_subset_Manipur 14.csv\n",
      "Saved: states_datasets/data_subset_Mizoram 15.csv\n",
      "Saved: states_datasets/data_subset_Tripura 16.csv\n",
      "Saved: states_datasets/data_subset_Meghalaya 17.csv\n",
      "Saved: states_datasets/data_subset_Assam 18.csv\n",
      "Saved: states_datasets/data_subset_West Bengal 19.csv\n",
      "Saved: states_datasets/data_subset_Jharkhand 20.csv\n",
      "Saved: states_datasets/data_subset_Orissa 21.csv\n",
      "Saved: states_datasets/data_subset_Chhattisgarh 22.csv\n",
      "Saved: states_datasets/data_subset_Madhya Pradesh 23.csv\n",
      "Saved: states_datasets/data_subset_Gujarat 24.csv\n",
      "Saved: states_datasets/data_subset_Daman & Diu 25.csv\n",
      "Saved: states_datasets/data_subset_Dadra+Nagar Haveli 26.csv\n",
      "Saved: states_datasets/data_subset_Maharashtra 27.csv\n",
      "Saved: states_datasets/data_subset_Andhra Pradesh 28.csv\n",
      "Saved: states_datasets/data_subset_Karnataka 29.csv\n",
      "Saved: states_datasets/data_subset_Goa 30.csv\n",
      "Saved: states_datasets/data_subset_Kerala 32.csv\n",
      "Saved: states_datasets/data_subset_Tamil Nadu 33.csv\n",
      "Saved: states_datasets/data_subset_Pondicherry 34.csv\n"
     ]
    }
   ],
   "source": [
    "# Split the dataset based on a specific column (replace 'column_name' with the column you want to split on)\n",
    "column_name = 'STATEID'\n",
    "unique_values = df[column_name].unique()\n",
    "\n",
    "output_dir = \"states_datasets\"\n",
    "os.makedirs(output_dir, exist_ok=True)\n",
    "\n",
    "# Save each subset as a separate CSV file\n",
    "for value in unique_values:\n",
    "    file_name = f\"{output_dir}/data_subset_{value}.csv\"\n",
    "    df[df[column_name] == value].to_csv(file_name, index=False)\n",
    "    print(f\"Saved: {file_name}\")\n",
    "\n",
    "# Save full dataset as well\n",
    "# df.to_csv(f\"./data_subset_India_00.csv\", index=False)\n",
    "# print(f\"Saved: ./data_subset_India_00.csv\")\n",
    "\n"
   ]
  },
  {
   "cell_type": "code",
   "execution_count": null,
   "metadata": {},
   "outputs": [],
   "source": [
    "ame = 'STATEID'\n",
    "unique_values = df[column_name].unique()\n",
    "\n",
    "# Create separate DataFrames for each unique value in the column and store them in variables\n",
    "datasets = {}\n",
    "for value in unique_values:\n",
    "    var_name = f'data_subset_{value}'\n",
    "    datasets[var_name] = df[df[column_name] == value]\n",
    "    # print(f'Created variable: {var_name}')\n",
    "datasets[\"data_subset_India 00\"] = df\n",
    "\n"
   ]
  }
 ],
 "metadata": {
  "kernelspec": {
   "display_name": "Python 3",
   "language": "python",
   "name": "python3"
  },
  "language_info": {
   "codemirror_mode": {
    "name": "ipython",
    "version": 3
   },
   "file_extension": ".py",
   "mimetype": "text/x-python",
   "name": "python",
   "nbconvert_exporter": "python",
   "pygments_lexer": "ipython3",
   "version": "3.12.3"
  }
 },
 "nbformat": 4,
 "nbformat_minor": 2
}
