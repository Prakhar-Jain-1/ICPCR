{
 "cells": [
  {
   "cell_type": "code",
   "execution_count": null,
   "id": "9d584565",
   "metadata": {},
   "outputs": [],
   "source": [
    "import os\n",
    "import re\n",
    "import sys\n",
    "import json\n",
    "from pathlib import Path\n",
    "from typing import Dict, List, Tuple\n",
    "import numpy as np\n",
    "import pandas as pd\n",
    "\n",
    "from sklearn.decomposition import PCA, FactorAnalysis\n",
    "from sklearn.preprocessing import StandardScaler, OneHotEncoder\n",
    "from sklearn.compose import ColumnTransformer\n",
    "from sklearn.pipeline import Pipeline\n",
    "from sklearn.linear_model import LinearRegression\n",
    "from sklearn.metrics import r2_score, mean_squared_error\n",
    "from sklearn.impute import SimpleImputer\n",
    "\n",
    "import warnings\n",
    "warnings.filterwarnings(\"ignore\")\n",
    "\n",
    "# --------------------- User knobs ---------------------\n",
    "CSV_PATHS = [\n",
    "    # e.g. \"/path/to/IHDS_II_individual.csv\",\n",
    "    \"states_datasets/data_subset_Uttar Pradesh 09.csv\",\n",
    "    \"states_datasets/data_subset_Gujarat 24.csv\",\n",
    "    \"states_datasets/data_subset_Maharashtra 27.csv\",\n",
    "    # e.g. \"/path/to/IHDS_II_household.csv\",\n",
    "]\n",
    "\n",
    "MERGE_KEYS = [\"STATEID\", \"DISTID\", \"PSUID\", \"HHID\", \"IDPERSON\"]\n",
    "\n",
    "TARGET_CANDIDATES = [\"INCOMEPC\", \"INCOME\", \"INCEARN\"]\n",
    "\n",
    "PC1_KEEP_THRESHOLD = 0.60\n",
    "CUMVAR_TARGET = 0.70\n",
    "MAX_COMPONENTS = 2\n",
    "INTRA_BLOCK_CORR_DROP = 0.90\n",
    "MAX_CATS = 20\n",
    "\n"
   ]
  },
  {
   "cell_type": "code",
   "execution_count": 4,
   "id": "17ff058a",
   "metadata": {},
   "outputs": [],
   "source": [
    "# ----- Thematic lists -----\n",
    "Basic_info_list = [\"RO3\", \"RO4\", \"RO5\", \"RO6\", \"RO7\", \"RO8\", \"RO9\", \"RO10\"]\n",
    "\n",
    "Farm = [\"FM1\", \"FM36Y\", \"FM37\", \"FM38\", \"FMHOURS\", \"WKFARM\", \"FM39AY\"]\n",
    "\n",
    "Animal_work = [\"AN1\", \"AN5Y\", \"AN6\", \"AN7Y\"]\n",
    "\n",
    "Non_farm = [\"NF1\", \"NFBN1\", \"NF9\", \"NF12\", \"NF13\", \"NF15Y\", \"NFBN21\", \"NF29\", \"NF32\", \"NF33\", \"NF35Y\", \"NFBN41\", \"NF49\", \"NF52\", \"NF53\", \"NFDAYS\", \"NFHOURS\", \"NF55Y\"]\n"
   ]
  },
  {
   "cell_type": "code",
   "execution_count": null,
   "id": "5b335654",
   "metadata": {},
   "outputs": [],
   "source": [
    "Farm_edit = [\"FM1\", \"FM36Y\", \"WKFARM\", \"FM39AY\"]"
   ]
  },
  {
   "cell_type": "code",
   "execution_count": 5,
   "id": "be9cb02f",
   "metadata": {},
   "outputs": [],
   "source": [
    "Income = [\"IN11S1\", \"IN13S1\", \"IN11S2\", \"IN13S2\", \"IN11S3\", \"IN13S3\", \"IN11S4\", \"IN13S4\", \"IN11S5\", \"IN13S5\", \"IN11S6\", \"IN13S6\", \"IN11S7\",\n",
    "           \"IN13S7\", \"IN11S8\", \"IN13S8\", \"IN18\", \"IN19\", \"IN20\", \"IN21\", \"IN22\", \"IN23\", \"IN24\"]\n",
    "\n",
    "Education = [\"ED2\", \"ED3\", \"ED4\", \"ED5\", \"ED6\", \"EDUC7\", \"EDUNDER1\", \"ED7\", \"ED8\", \"ED9\", \"ED10\", \"ED11\", \"ED12\", \"ED13\"]\n",
    "\n",
    "Technology = [\"MM7Y\", \"MM8\", \"MM9\", \"MM12Y\", \"MM13\", \"MM14\"]\n",
    "\n",
    "Teacher_and_school = [\"TA3\", \"TA4\", \"TA5\", \"TA6\", \"TA8A\", \"TA8B\", \"TA9A\", \"TA9B\", \"TA10A\", \"TA10B\"]\n"
   ]
  },
  {
   "cell_type": "code",
   "execution_count": 6,
   "id": "000757d8",
   "metadata": {},
   "outputs": [],
   "source": [
    "College_school = [\"CS3\", \"CS3Y\", \"CS4\", \"CS5\", \"CS6\", \"CS7\", \"CS8\", \"CS9\", \"CS10\", \"CS11\", \"CS12\", \"CS13\", \"CS16\", \"CS17\",\n",
    "                   \"CS18\", \"CS19\", \"CS20\", \"CS21\", \"CS22\", \"CS23\", \"CS24\", \"CS25\", \"CS26\", \"CS27\", \"CS28\"]\n",
    "\n",
    "Child_and_school = [\"CH2\", \"CH3\", \"CH4A\", \"CH4B\", \"CH5\", \"CH6\", \"CH7\", \"CH8\", \"CH9\", \"CH10\", \"CH11\", \"CH12\", \"CH13\", \"CH14\", \"CH15\", \"CH16\", \"CH17\", \"CH18\", \"CH19\", \"CH20\", \"CH22\"]\n",
    "\n",
    "Short_term_Morbidity = [\"SM3\", \"SM4\", \"SM5\", \"SM6\", \"SM7\", \"SM8\", \"SM9\", \"SM10\", \"SM11\", \"SM12\", \"SM14A\", \"SM14B\", \"SM15A\", \"SM15B\", \"SM16\", \"SM17\", \"SM18\", \"SM19\", \"SM20\", \"SM21\", \"SM22\"]\n",
    "\n",
    "Major_Morbidity =[\"MB3\", \"MB4\", \"MB5\", \"MB6\", \"MB7\", \"MB8\", \"MB9\", \"MB10\", \"MB11\", \"MB12\", \"MB13\", \"MB14\", \"MB15\", \"MB16\", \"MB17\", \n",
    "                  \"MB18\", \"MB19\", \"MB21A\", \"MB21B\", \"MB22A\", \"MB22B\", \"MB23\", \"MB24\", \"MB25\", \"MB26\", \"MB27\", \"MB28\", \"MB29\"]\n"
   ]
  },
  {
   "cell_type": "code",
   "execution_count": 7,
   "id": "1a95adc4",
   "metadata": {},
   "outputs": [],
   "source": [
    "Activity_difficulty = [\"AD3\", \"AD4\", \"AD5\", \"AD6\", \"AD7\", \"AD8\", \"AD9\"]\n",
    "\n",
    "Tobacco_and_other = [\"TO3\", \"TO4\", \"TO5\", \"TO6\"]\n",
    "\n",
    "Anthropometry = [\"AP2\", \"AP3\", \"AP5\", \"AP6\", \"AP7\", \"AP8\", \"AP9\"]\n",
    "\n",
    "Eligible_women = [\"EW3Y\"]\n"
   ]
  },
  {
   "cell_type": "code",
   "execution_count": 8,
   "id": "5421f429",
   "metadata": {},
   "outputs": [],
   "source": [
    "Urban = [\"URBAN2011\", \"URBAN4_2011\", \"METRO\", \"METRO6\", \"POVLINE2005\", \"POVLINE2012\",\"DEFLATOR\"]\n",
    "\n",
    "Household_details = [\"NPERSONS\", \"EWELIGIBLE\", \"EWQELIGIBLE\",\"MHEADAGE\", \"FHEADAGE\", \"NADULTM\", \"NADULTF\", \"NCHILDM\", \"NCHILDF\", \"NTEENM\", \"NTEENF\", \"NELDERM\", \"NELDERF\", \"NMARRIEDM\", \n",
    "                     \"NMARRIEDF\", \"NWKNONAG\", \"NWKAGLAB\", \"NWKSALARY\", \"NWKBUSINESS\", \"NWKFARM\", \"NWKANIMAL\", \"NWKNREGA\", \"NWKNREGA4\", \"NWKNONNREGA\", \"NWKANY5\",\n",
    "                     \"NNR\", \"HHEDUC\", \"HHEDUCM\", \"HHEDUCF\"]\n",
    "\n",
    "Caste_and_Religion = [\"ID11\", \"ID13\", \"GROUPS\"]\n",
    "\n",
    "Buiseness = [\"NF5\", \"NF25\", \"NF45\"]\n"
   ]
  },
  {
   "cell_type": "code",
   "execution_count": 9,
   "id": "e06d8361",
   "metadata": {},
   "outputs": [],
   "source": [
    "Household_financial = [\"COTOTAL\", \"COPC\", \"ASSETS\", \"ASSETS2005\", \"INCCROP\", \"INCAGPROP\", \"INCANIMAL\", \"INCAG\", \"INCBUS\", \"INCOTHER\", \"INCEARN\", \"INCBENEFITS\", \"INCREMIT\", \"INCOME\", \"INCOMEPC\",\"RSUNEARN\"]\n",
    "\n",
    "Work_participation = [\"WKANIMAL\", \"WKBUSINESS\",\"WKNREGA\", \"WKDAYS\", \"WKHOURS\", \"WKANY5\"]\n",
    "\n",
    "WorkSpace = [\"WS3NM\", \"WS4\", \"WS5\", \"WS7\", \"WS7MONTHS\", \"WS8\", \"WS8YEAR\", \"WS9\", \"WS10\", \"WS10ANNUAL\", \"WSEARN\", \"WSEARNHOURLY\", \"WS11\", \"WS11MEALS\", \"WS11HOUSE\",\n",
    "              \"WS11MEALSRS\", \"WS11HOUSERS\", \"WS12\", \"WS13\", \"WS14\", \"WS15\", \"WS7AGLAB\", \"WS8AGLAB\", \"WSEARNAGLAB\", \"WKAGLAB\", \"WS7NONAG\", \"WS8NONAG\", \"WSEARNNONAG\",\n",
    "                \"WKNONAG\", \"WS7SALARY\", \"WS8SALARY\", \"WSEARNSALARY\", \"WKSALARY\", \"WS7NREGA\", \"WS8NREGA\", \"WSEARNNREGA\"]\n",
    "\n",
    "WSEARN = [\"WSEARNAGLAB\", \"WSEARNNONAG\", \"WSEARNSALARY\", \"WSEARNNREGA\", \"WSEARNANNUAL\", \"WSEARN\"]\n"
   ]
  },
  {
   "cell_type": "code",
   "execution_count": 10,
   "id": "0973e8f4",
   "metadata": {},
   "outputs": [],
   "source": [
    "Income_Household = [\"INCNONAG\", \"INCAGLAB\", \"INCSALARY\", \"INCNREGA\", \"INCNONNREGA\"]\n",
    "\n",
    "Migrants_data = [\"MG4\", \"MG5\", \"MG6\", \"MG7\", \"MG8\", \"MG9NM\", \"MG10\", \"MG11\",\"MGYEAR5\", \"NMIG5\", \"MGMONTHS5\", \"MGYEAR1\", \"NMIG1\", \"MGMONTHS1\"]\n",
    "\n"
   ]
  },
  {
   "cell_type": "code",
   "execution_count": 11,
   "id": "88e3d7c0",
   "metadata": {},
   "outputs": [],
   "source": [
    "Regression_list = [(\"Farm\", Farm), (\"Animal_work\", Animal_work), (\"Non_farm\", Non_farm), (\"Education\", Education), (\"Technology\", Technology), \n",
    "                   (\"Teacher_and_school\", Teacher_and_school), (\"College_school\", College_school), (\"Child_and_school\", Child_and_school),\n",
    "                   (\"Short_term_Morbidity\", Short_term_Morbidity), (\"Major_Morbidity\", Major_Morbidity), (\"Activity_difficulty\", Activity_difficulty), \n",
    "                   (\"Tobacco_and_other\", Tobacco_and_other), (\"Anthropometry\", Anthropometry), (\"WorkSpace\", WorkSpace), (\"WSEARN\", WSEARN), \n",
    "                   (\"Income_Household\", Income_Household)]\n",
    "\n",
    "Control_blocks = [(\"Basic_info\", Basic_info_list), (\"Household_details\", Household_details), (\"Caste_and_Religion\", Caste_and_Religion), (\"Urban\", Urban)]\n"
   ]
  }
 ],
 "metadata": {
  "kernelspec": {
   "display_name": "Python 3",
   "language": "python",
   "name": "python3"
  },
  "language_info": {
   "codemirror_mode": {
    "name": "ipython",
    "version": 3
   },
   "file_extension": ".py",
   "mimetype": "text/x-python",
   "name": "python",
   "nbconvert_exporter": "python",
   "pygments_lexer": "ipython3",
   "version": "3.12.10"
  }
 },
 "nbformat": 4,
 "nbformat_minor": 5
}
